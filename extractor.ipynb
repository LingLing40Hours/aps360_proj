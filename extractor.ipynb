{
 "cells": [
  {
   "cell_type": "code",
   "execution_count": 20,
   "metadata": {},
   "outputs": [],
   "source": [
    "import torch\n",
    "import os\n",
    "import gc\n",
    "import pickle\n",
    "import torch.nn as nn\n",
    "import torch.nn.functional as F\n",
    "from torch.utils.data import DataLoader\n",
    "from torch.utils.data import Dataset\n",
    "import torch.optim as optim\n",
    "from sklearn.model_selection import train_test_split\n",
    "import torchtext.data\n",
    "import spacy\n",
    "from torchtext.data import Field, BucketIterator, Example, Dataset\n",
    "import matplotlib.pyplot as plt"
   ]
  },
  {
   "cell_type": "code",
   "execution_count": 3,
   "metadata": {},
   "outputs": [
    {
     "data": {
      "text/plain": [
       "<torch._C.Generator at 0x107cc9af0>"
      ]
     },
     "execution_count": 3,
     "metadata": {},
     "output_type": "execute_result"
    }
   ],
   "source": [
    "torch.manual_seed(42)"
   ]
  },
  {
   "cell_type": "code",
   "execution_count": 4,
   "metadata": {},
   "outputs": [],
   "source": [
    "#filepaths\n",
    "clean_img_path = 'clean_img'\n",
    "clean_txt_path = 'clean_txt'\n",
    "clean_entity_path = 'clean_entity'"
   ]
  },
  {
   "cell_type": "code",
   "execution_count": 31,
   "metadata": {},
   "outputs": [],
   "source": [
    "#collect all records into a list\n",
    "records = []\n",
    "clean_imgs = torch.load(os.path.join(clean_img_path, 'clean.pt'))\n",
    "\n",
    "for i, name in enumerate(os.listdir(clean_txt_path)):\n",
    "    name, __ = os.path.splitext(name)\n",
    "    img = clean_imgs[i]\n",
    "    txt_filepath = os.path.join(clean_txt_path, name + '.txt')\n",
    "    txt_file = open(txt_filepath, 'rb')\n",
    "    text = txt_file.read()\n",
    "    txt_file.close()\n",
    "    ent_filepath = os.path.join(clean_entity_path, name + '.pkl')\n",
    "    #print(ent_filepath)\n",
    "    #ent_file = open(ent_filepath, 'rb')\n",
    "    try:\n",
    "        with open(ent_filepath, 'rb') as my_file:\n",
    "            unpickler = pickle.Unpickler(my_file)\n",
    "            entities = unpickler.load()\n",
    "    except EOFError:\n",
    "        print(ent_filepath)\n",
    "        print('An EOFError exception occurred. The file is empty')\n",
    "    #entities = pickle.load(ent_file)\n",
    "    #record = [img, text, entities]\n",
    "    record = [text, entities]\n",
    "    records.append(record)"
   ]
  },
  {
   "cell_type": "code",
   "execution_count": 32,
   "metadata": {},
   "outputs": [],
   "source": [
    "TEXT = Field(sequential=True, tokenize=lambda x: x)\n",
    "ENTITIES = Field(sequential=True, tokenize=lambda x: x.split())\n",
    "\n",
    "# Create examples from dataset\n",
    "data_examples = [Example.fromlist([text, entities], fields=[('text', TEXT), ('entities', ENTITIES)]) for text, entities in records]\n",
    "data_set = Dataset(data_examples, fields=[('text', TEXT), ('entities', ENTITIES)])\n",
    "\n",
    "# Build vocab (if necessary)\n",
    "TEXT.build_vocab(data_set)\n",
    "\n",
    "train_set, valid_set, test_set = data_set.split(split_ratio=[0.7, 0.15, 0.15])"
   ]
  },
  {
   "cell_type": "code",
   "execution_count": 33,
   "metadata": {},
   "outputs": [
    {
     "data": {
      "text/plain": [
       "['MR. D.I.Y. (M) SDN BHD',\n",
       " '19-04-18',\n",
       " 'LOT 1851-A & 1851-B, JALAN KPB 6, KAWASAN PERINDUSTRIAN BALAKONG, 43300 SERI KEMBANGAN, SELANGOR',\n",
       " 'RM 34.80']"
      ]
     },
     "execution_count": 33,
     "metadata": {},
     "output_type": "execute_result"
    }
   ],
   "source": [
    "test_set[0].entities #name, date, address, total"
   ]
  },
  {
   "cell_type": "code",
   "execution_count": 34,
   "metadata": {},
   "outputs": [
    {
     "name": "stdout",
     "output_type": "stream",
     "text": [
      "22\n",
      "5\n",
      "5\n"
     ]
    }
   ],
   "source": [
    "train_iterator, val_iterator, test_iterator = BucketIterator.splits(\n",
    "    (train_set, valid_set, test_set),\n",
    "    batch_size=32,\n",
    "    sort_key=lambda x: len(x.text),\n",
    "    sort_within_batch=True\n",
    ")\n",
    "print(len(train_iterator))\n",
    "print(len(val_iterator))\n",
    "print(len(test_iterator))"
   ]
  },
  {
   "cell_type": "code",
   "execution_count": 35,
   "metadata": {},
   "outputs": [],
   "source": [
    "class EXT(nn.Module):\n",
    "    def __init__(self, input_size, hidden_size):\n",
    "        super(EXT, self).__init__()\n",
    "        self.emb = nn.Embedding(input_size, input_size)\n",
    "        self.hidden_size = hidden_size\n",
    "        self.rnn = nn.GRU(input_size, hidden_size, batch_first=True)\n",
    "        self.fc = nn.Linear(hidden_size, 8)\n",
    "\n",
    "    def forward(self, x):\n",
    "        x = self.emb(x)\n",
    "        h0 = torch.zeros(1, len(x), self.hidden_size)  # Initial hidden state\n",
    "        out, _ = self.rnn(x, h0) #[batch index, char index, vocab index]\n",
    "        out = self.fc(out) #[batch index, char index, 8]\n",
    "        return out #The output_probs tensor contains probabilities for each class at each position in the sequence"
   ]
  },
  {
   "cell_type": "code",
   "execution_count": 36,
   "metadata": {},
   "outputs": [],
   "source": [
    "#probabilities of [start name, end name, start date, end date, start address, end address, start total, end total]\n",
    "#return tensor of ground truth probabilities\n",
    "def get_ground_probs(text, ents):\n",
    "    name_start = torch.zeros(1, len(text))\n",
    "    name_end = torch.zeros(1, len(text))\n",
    "    date_start = torch.zeros(1, len(text))\n",
    "    date_end = torch.zeros(1, len(text))\n",
    "    address_start = torch.zeros(1, len(text))\n",
    "    address_end = torch.zeros(1, len(text))\n",
    "    total_start = torch.zeros(1, len(text))\n",
    "    total_end = torch.zeros(1, len(text))\n",
    "    name_start_index = text.index(ents[0])\n",
    "    name_end_index = name_start_index + len(ents[0])\n",
    "    date_start_index = text.index(ents[1])\n",
    "    date_end_index = date_start_index + len(ents[1])\n",
    "    address_start_index = text.index(ents[2])\n",
    "    address_end_index = date_start_index + len(ents[2])\n",
    "    total_start_index = text.index(ents[3])\n",
    "    total_end_index = total_start_index + len(ents[3])\n",
    "    name_start[name_start_index] = 1\n",
    "    name_end[name_end_index] = 1\n",
    "    date_start[date_start_index] = 1\n",
    "    date_end[date_end_index] = 1\n",
    "    address_start[address_start_index] = 1\n",
    "    address_end[address_end_index] = 1\n",
    "    total_start[total_start_index] = 1\n",
    "    total_end[total_end_index] = 1\n",
    "    return torch.stack([name_start, name_end, date_start, date_end, address_start, address_end, total_start, total_end])\n",
    "\n",
    "def get_batch_ground_probs(batch_text, batch_ents):\n",
    "    ans = []\n",
    "    for text, ents in zip(batch_text, batch_ents):\n",
    "        ans.append(get_ground_probs(text, ents))\n",
    "    return torch.stack(ans)"
   ]
  },
  {
   "cell_type": "code",
   "execution_count": 37,
   "metadata": {},
   "outputs": [],
   "source": [
    "def cer(reference, hypothesis):\n",
    "    # Convert the sentences into character lists\n",
    "    ref = list(reference)\n",
    "    hyp = list(hypothesis)\n",
    "\n",
    "    # Create a matrix of size (len(ref)+1) x (len(hyp)+1)\n",
    "    d = np.zeros((len(ref) + 1) * (len(hyp) + 1), dtype=np.uint8)\n",
    "    d = d.reshape((len(ref) + 1, len(hyp) + 1))\n",
    "\n",
    "    # Initialize the first row and column to be the distance from the empty string\n",
    "    for i in range(len(ref) + 1):\n",
    "        d[i][0] = i\n",
    "    for j in range(len(hyp) + 1):\n",
    "        d[0][j] = j\n",
    "\n",
    "    # Populate the rest of the matrix\n",
    "    for i in range(1, len(ref) + 1):\n",
    "        for j in range(1, len(hyp) + 1):\n",
    "            if ref[i - 1] == hyp[j - 1]:\n",
    "                cost = 0\n",
    "            else:\n",
    "                cost = 1\n",
    "            d[i][j] = min(d[i - 1][j] + 1,      # deletion\n",
    "                          d[i][j - 1] + 1,      # insertion\n",
    "                          d[i - 1][j - 1] + cost)  # substitution\n",
    "\n",
    "    # The CER is the cost of transforming hypothesis into reference divided by the number of characters in the reference\n",
    "    cer_value = float(d[len(ref)][len(hyp)]) / len(ref)\n",
    "\n",
    "    return cer_value"
   ]
  },
  {
   "cell_type": "code",
   "execution_count": null,
   "metadata": {},
   "outputs": [],
   "source": [
    "def get_model_name(name, batch_size, learning_rate, epoch):\n",
    "  return \"model_{}_bs{}_lr{}_epoch{}\".format(name, batch_size, learning_rate, epoch)\n",
    "\n",
    "#based on CER\n",
    "def get_accuracy(model, data_itr):\n",
    "    correct = 0\n",
    "    total = 0\n",
    "    for batch_text, batch_ents in data_itr:\n",
    "        output = model(batch_text)\n",
    "\n",
    "        #select index with maximum prediction score\n",
    "        pred = output.max(1, keepdim=True)[1]\n",
    "        correct += pred.eq(labels.view_as(pred)).sum().item()\n",
    "        total += imgs.shape[0]\n",
    "    return correct / total"
   ]
  },
  {
   "cell_type": "code",
   "execution_count": 115,
   "metadata": {},
   "outputs": [],
   "source": [
    "def train_model(model, train_set, val_set, batch_size=32, num_epochs=5, learning_rate=1e-5):\n",
    "    # DataLoaders for train and validation sets\n",
    "    # Create BucketIterator\n",
    "    train_itr = BucketIterator(train_set, batch_size=2, sort_key=lambda x: len(x.text),\n",
    "                                    sort_within_batch=True, device=torch.device('cpu'), shuffle=True,\n",
    "                                    train=True, sort=True)\n",
    "    val_itr = BucketIterator(val_set, batch_size=2, sort_key=lambda x: len(x.text),\n",
    "                                    sort_within_batch=True, device=torch.device('cpu'), shuffle=True,\n",
    "                                    train=True, sort=True)\n",
    "\n",
    "    criterion = nn.CrossEntropyLoss()\n",
    "    optimizer = optim.Adam(model.parameters(), lr=learning_rate, weight_decay=1e-4)\n",
    "    train_loss, val_loss, train_acc, valid_acc = [], [], [], []\n",
    "    epochs = []\n",
    "\n",
    "    for epoch in range(num_epochs):\n",
    "        for i, (texts, ents) in enumerate(train_itr):\n",
    "            optimizer.zero_grad()\n",
    "            #print(batch.sms[0])\n",
    "            assert(torch.is_tensor(batch.sms[0]))\n",
    "            pred = model(batch.sms[0])\n",
    "            loss = criterion(pred, batch.label)\n",
    "            loss.backward()\n",
    "            optimizer.step()\n",
    "\n",
    "        train_loss.append(get_loss(model, train_iter, criterion))\n",
    "        val_loss.append(get_loss(model, valid_iter, criterion))\n",
    "\n",
    "        epochs.append(epoch)\n",
    "        train_acc.append(get_accuracy(model, train_iter, batch_size))\n",
    "        valid_acc.append(get_accuracy(model, valid_iter, batch_size))\n",
    "        print(\"Epoch %d; Train Loss %f; Val Loss %f Train Acc %f; Val Acc %f\" % (\n",
    "            epoch+1, train_loss[-1], val_loss[-1], train_acc[-1], valid_acc[-1]))\n",
    "\n",
    "    # plotting\n",
    "    plt.title(\"Training Curve\")\n",
    "    plt.plot(epochs, train_loss, label=\"Train\")\n",
    "    plt.plot(epochs, val_loss, label=\"Validation\")\n",
    "    plt.xlabel(\"Epoch\")\n",
    "    plt.ylabel(\"Loss\")\n",
    "    plt.show()\n",
    "\n",
    "    plt.title(\"Training Curve\")\n",
    "    plt.plot(epochs, train_acc, label=\"Train\")\n",
    "    plt.plot(epochs, valid_acc, label=\"Validation\")\n",
    "    plt.xlabel(\"Epoch\")\n",
    "    plt.ylabel(\"Accuracy\")\n",
    "    plt.legend(loc='best')\n",
    "    plt.show()"
   ]
  },
  {
   "cell_type": "code",
   "execution_count": 117,
   "metadata": {},
   "outputs": [
    {
     "ename": "AttributeError",
     "evalue": "'tuple' object has no attribute 'dim'",
     "output_type": "error",
     "traceback": [
      "\u001b[0;31m---------------------------------------------------------------------------\u001b[0m",
      "\u001b[0;31mAttributeError\u001b[0m                            Traceback (most recent call last)",
      "\u001b[1;32m/Users/admin/Documents/University/APS360/project/recpt/extractor.ipynb Cell 14\u001b[0m line \u001b[0;36m3\n\u001b[1;32m      <a href='vscode-notebook-cell:/Users/admin/Documents/University/APS360/project/recpt/extractor.ipynb#X13sZmlsZQ%3D%3D?line=0'>1</a>\u001b[0m george \u001b[39m=\u001b[39m EXT(\u001b[39mlen\u001b[39m(char_vocab), \u001b[39m144\u001b[39m, \u001b[39mlen\u001b[39m(char_vocab))\n\u001b[0;32m----> <a href='vscode-notebook-cell:/Users/admin/Documents/University/APS360/project/recpt/extractor.ipynb#X13sZmlsZQ%3D%3D?line=2'>3</a>\u001b[0m train_model(george, train_set, val_set)\n",
      "\u001b[1;32m/Users/admin/Documents/University/APS360/project/recpt/extractor.ipynb Cell 14\u001b[0m line \u001b[0;36m1\n\u001b[1;32m     <a href='vscode-notebook-cell:/Users/admin/Documents/University/APS360/project/recpt/extractor.ipynb#X13sZmlsZQ%3D%3D?line=12'>13</a>\u001b[0m \u001b[39mfor\u001b[39;00m i, (texts, ents) \u001b[39min\u001b[39;00m \u001b[39menumerate\u001b[39m(train_loader, \u001b[39m0\u001b[39m):\n\u001b[1;32m     <a href='vscode-notebook-cell:/Users/admin/Documents/University/APS360/project/recpt/extractor.ipynb#X13sZmlsZQ%3D%3D?line=13'>14</a>\u001b[0m     optimizer\u001b[39m.\u001b[39mzero_grad()\n\u001b[0;32m---> <a href='vscode-notebook-cell:/Users/admin/Documents/University/APS360/project/recpt/extractor.ipynb#X13sZmlsZQ%3D%3D?line=14'>15</a>\u001b[0m     outputs \u001b[39m=\u001b[39m model(texts)\n\u001b[1;32m     <a href='vscode-notebook-cell:/Users/admin/Documents/University/APS360/project/recpt/extractor.ipynb#X13sZmlsZQ%3D%3D?line=15'>16</a>\u001b[0m     loss \u001b[39m=\u001b[39m criterion(outputs\u001b[39m.\u001b[39mview(\u001b[39m-\u001b[39m\u001b[39m1\u001b[39m, outputs\u001b[39m.\u001b[39msize(\u001b[39m-\u001b[39m\u001b[39m1\u001b[39m)), ents\u001b[39m.\u001b[39mview(\u001b[39m-\u001b[39m\u001b[39m1\u001b[39m))\n\u001b[1;32m     <a href='vscode-notebook-cell:/Users/admin/Documents/University/APS360/project/recpt/extractor.ipynb#X13sZmlsZQ%3D%3D?line=16'>17</a>\u001b[0m     loss\u001b[39m.\u001b[39mbackward()\n",
      "File \u001b[0;32m/usr/local/lib/python3.11/site-packages/torch/nn/modules/module.py:1518\u001b[0m, in \u001b[0;36mModule._wrapped_call_impl\u001b[0;34m(self, *args, **kwargs)\u001b[0m\n\u001b[1;32m   1516\u001b[0m     \u001b[39mreturn\u001b[39;00m \u001b[39mself\u001b[39m\u001b[39m.\u001b[39m_compiled_call_impl(\u001b[39m*\u001b[39margs, \u001b[39m*\u001b[39m\u001b[39m*\u001b[39mkwargs)  \u001b[39m# type: ignore[misc]\u001b[39;00m\n\u001b[1;32m   1517\u001b[0m \u001b[39melse\u001b[39;00m:\n\u001b[0;32m-> 1518\u001b[0m     \u001b[39mreturn\u001b[39;00m \u001b[39mself\u001b[39;49m\u001b[39m.\u001b[39;49m_call_impl(\u001b[39m*\u001b[39;49margs, \u001b[39m*\u001b[39;49m\u001b[39m*\u001b[39;49mkwargs)\n",
      "File \u001b[0;32m/usr/local/lib/python3.11/site-packages/torch/nn/modules/module.py:1527\u001b[0m, in \u001b[0;36mModule._call_impl\u001b[0;34m(self, *args, **kwargs)\u001b[0m\n\u001b[1;32m   1522\u001b[0m \u001b[39m# If we don't have any hooks, we want to skip the rest of the logic in\u001b[39;00m\n\u001b[1;32m   1523\u001b[0m \u001b[39m# this function, and just call forward.\u001b[39;00m\n\u001b[1;32m   1524\u001b[0m \u001b[39mif\u001b[39;00m \u001b[39mnot\u001b[39;00m (\u001b[39mself\u001b[39m\u001b[39m.\u001b[39m_backward_hooks \u001b[39mor\u001b[39;00m \u001b[39mself\u001b[39m\u001b[39m.\u001b[39m_backward_pre_hooks \u001b[39mor\u001b[39;00m \u001b[39mself\u001b[39m\u001b[39m.\u001b[39m_forward_hooks \u001b[39mor\u001b[39;00m \u001b[39mself\u001b[39m\u001b[39m.\u001b[39m_forward_pre_hooks\n\u001b[1;32m   1525\u001b[0m         \u001b[39mor\u001b[39;00m _global_backward_pre_hooks \u001b[39mor\u001b[39;00m _global_backward_hooks\n\u001b[1;32m   1526\u001b[0m         \u001b[39mor\u001b[39;00m _global_forward_hooks \u001b[39mor\u001b[39;00m _global_forward_pre_hooks):\n\u001b[0;32m-> 1527\u001b[0m     \u001b[39mreturn\u001b[39;00m forward_call(\u001b[39m*\u001b[39;49margs, \u001b[39m*\u001b[39;49m\u001b[39m*\u001b[39;49mkwargs)\n\u001b[1;32m   1529\u001b[0m \u001b[39mtry\u001b[39;00m:\n\u001b[1;32m   1530\u001b[0m     result \u001b[39m=\u001b[39m \u001b[39mNone\u001b[39;00m\n",
      "\u001b[1;32m/Users/admin/Documents/University/APS360/project/recpt/extractor.ipynb Cell 14\u001b[0m line \u001b[0;36m1\n\u001b[1;32m      <a href='vscode-notebook-cell:/Users/admin/Documents/University/APS360/project/recpt/extractor.ipynb#X13sZmlsZQ%3D%3D?line=7'>8</a>\u001b[0m \u001b[39mdef\u001b[39;00m \u001b[39mforward\u001b[39m(\u001b[39mself\u001b[39m, x):\n\u001b[1;32m      <a href='vscode-notebook-cell:/Users/admin/Documents/University/APS360/project/recpt/extractor.ipynb#X13sZmlsZQ%3D%3D?line=8'>9</a>\u001b[0m     h0 \u001b[39m=\u001b[39m torch\u001b[39m.\u001b[39mzeros(\u001b[39m1\u001b[39m, \u001b[39mlen\u001b[39m(x), \u001b[39mself\u001b[39m\u001b[39m.\u001b[39mhidden_size)  \u001b[39m# Initial hidden state\u001b[39;00m\n\u001b[0;32m---> <a href='vscode-notebook-cell:/Users/admin/Documents/University/APS360/project/recpt/extractor.ipynb#X13sZmlsZQ%3D%3D?line=9'>10</a>\u001b[0m     out, _ \u001b[39m=\u001b[39m \u001b[39mself\u001b[39;49m\u001b[39m.\u001b[39;49mrnn(x, h0)\n\u001b[1;32m     <a href='vscode-notebook-cell:/Users/admin/Documents/University/APS360/project/recpt/extractor.ipynb#X13sZmlsZQ%3D%3D?line=10'>11</a>\u001b[0m     out \u001b[39m=\u001b[39m \u001b[39mself\u001b[39m\u001b[39m.\u001b[39mfc(out)\n\u001b[1;32m     <a href='vscode-notebook-cell:/Users/admin/Documents/University/APS360/project/recpt/extractor.ipynb#X13sZmlsZQ%3D%3D?line=11'>12</a>\u001b[0m     \u001b[39mreturn\u001b[39;00m out\n",
      "File \u001b[0;32m/usr/local/lib/python3.11/site-packages/torch/nn/modules/module.py:1518\u001b[0m, in \u001b[0;36mModule._wrapped_call_impl\u001b[0;34m(self, *args, **kwargs)\u001b[0m\n\u001b[1;32m   1516\u001b[0m     \u001b[39mreturn\u001b[39;00m \u001b[39mself\u001b[39m\u001b[39m.\u001b[39m_compiled_call_impl(\u001b[39m*\u001b[39margs, \u001b[39m*\u001b[39m\u001b[39m*\u001b[39mkwargs)  \u001b[39m# type: ignore[misc]\u001b[39;00m\n\u001b[1;32m   1517\u001b[0m \u001b[39melse\u001b[39;00m:\n\u001b[0;32m-> 1518\u001b[0m     \u001b[39mreturn\u001b[39;00m \u001b[39mself\u001b[39;49m\u001b[39m.\u001b[39;49m_call_impl(\u001b[39m*\u001b[39;49margs, \u001b[39m*\u001b[39;49m\u001b[39m*\u001b[39;49mkwargs)\n",
      "File \u001b[0;32m/usr/local/lib/python3.11/site-packages/torch/nn/modules/module.py:1527\u001b[0m, in \u001b[0;36mModule._call_impl\u001b[0;34m(self, *args, **kwargs)\u001b[0m\n\u001b[1;32m   1522\u001b[0m \u001b[39m# If we don't have any hooks, we want to skip the rest of the logic in\u001b[39;00m\n\u001b[1;32m   1523\u001b[0m \u001b[39m# this function, and just call forward.\u001b[39;00m\n\u001b[1;32m   1524\u001b[0m \u001b[39mif\u001b[39;00m \u001b[39mnot\u001b[39;00m (\u001b[39mself\u001b[39m\u001b[39m.\u001b[39m_backward_hooks \u001b[39mor\u001b[39;00m \u001b[39mself\u001b[39m\u001b[39m.\u001b[39m_backward_pre_hooks \u001b[39mor\u001b[39;00m \u001b[39mself\u001b[39m\u001b[39m.\u001b[39m_forward_hooks \u001b[39mor\u001b[39;00m \u001b[39mself\u001b[39m\u001b[39m.\u001b[39m_forward_pre_hooks\n\u001b[1;32m   1525\u001b[0m         \u001b[39mor\u001b[39;00m _global_backward_pre_hooks \u001b[39mor\u001b[39;00m _global_backward_hooks\n\u001b[1;32m   1526\u001b[0m         \u001b[39mor\u001b[39;00m _global_forward_hooks \u001b[39mor\u001b[39;00m _global_forward_pre_hooks):\n\u001b[0;32m-> 1527\u001b[0m     \u001b[39mreturn\u001b[39;00m forward_call(\u001b[39m*\u001b[39;49margs, \u001b[39m*\u001b[39;49m\u001b[39m*\u001b[39;49mkwargs)\n\u001b[1;32m   1529\u001b[0m \u001b[39mtry\u001b[39;00m:\n\u001b[1;32m   1530\u001b[0m     result \u001b[39m=\u001b[39m \u001b[39mNone\u001b[39;00m\n",
      "File \u001b[0;32m/usr/local/lib/python3.11/site-packages/torch/nn/modules/rnn.py:521\u001b[0m, in \u001b[0;36mRNN.forward\u001b[0;34m(self, input, hx)\u001b[0m\n\u001b[1;32m    519\u001b[0m \u001b[39melse\u001b[39;00m:\n\u001b[1;32m    520\u001b[0m     batch_sizes \u001b[39m=\u001b[39m \u001b[39mNone\u001b[39;00m\n\u001b[0;32m--> 521\u001b[0m     \u001b[39mif\u001b[39;00m \u001b[39minput\u001b[39;49m\u001b[39m.\u001b[39;49mdim() \u001b[39mnot\u001b[39;00m \u001b[39min\u001b[39;00m (\u001b[39m2\u001b[39m, \u001b[39m3\u001b[39m):\n\u001b[1;32m    522\u001b[0m         \u001b[39mraise\u001b[39;00m \u001b[39mValueError\u001b[39;00m(\u001b[39mf\u001b[39m\u001b[39m\"\u001b[39m\u001b[39mRNN: Expected input to be 2D or 3D, got \u001b[39m\u001b[39m{\u001b[39;00m\u001b[39minput\u001b[39m\u001b[39m.\u001b[39mdim()\u001b[39m}\u001b[39;00m\u001b[39mD tensor instead\u001b[39m\u001b[39m\"\u001b[39m)\n\u001b[1;32m    523\u001b[0m     is_batched \u001b[39m=\u001b[39m \u001b[39minput\u001b[39m\u001b[39m.\u001b[39mdim() \u001b[39m==\u001b[39m \u001b[39m3\u001b[39m\n",
      "\u001b[0;31mAttributeError\u001b[0m: 'tuple' object has no attribute 'dim'"
     ]
    }
   ],
   "source": [
    "george = EXT(len(char_vocab), 144, len(char_vocab))\n",
    "\n",
    "train_model(george, train_set, val_set)"
   ]
  },
  {
   "cell_type": "code",
   "execution_count": null,
   "metadata": {},
   "outputs": [],
   "source": []
  }
 ],
 "metadata": {
  "kernelspec": {
   "display_name": "Python 3",
   "language": "python",
   "name": "python3"
  },
  "language_info": {
   "codemirror_mode": {
    "name": "ipython",
    "version": 3
   },
   "file_extension": ".py",
   "mimetype": "text/x-python",
   "name": "python",
   "nbconvert_exporter": "python",
   "pygments_lexer": "ipython3",
   "version": "3.11.5"
  }
 },
 "nbformat": 4,
 "nbformat_minor": 2
}
